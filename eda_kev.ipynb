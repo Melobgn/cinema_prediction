{
 "cells": [
  {
   "cell_type": "code",
   "execution_count": 1,
   "metadata": {},
   "outputs": [],
   "source": [
    "import pandas as pd\n",
    "import numpy as np\n",
    "import matplotlib.pyplot as plt\n",
    "import seaborn as sns\n",
    "import datetime as dt"
   ]
  },
  {
   "cell_type": "code",
   "execution_count": 7,
   "metadata": {},
   "outputs": [
    {
     "data": {
      "text/html": [
       "<div>\n",
       "<style scoped>\n",
       "    .dataframe tbody tr th:only-of-type {\n",
       "        vertical-align: middle;\n",
       "    }\n",
       "\n",
       "    .dataframe tbody tr th {\n",
       "        vertical-align: top;\n",
       "    }\n",
       "\n",
       "    .dataframe thead th {\n",
       "        text-align: right;\n",
       "    }\n",
       "</style>\n",
       "<table border=\"1\" class=\"dataframe\">\n",
       "  <thead>\n",
       "    <tr style=\"text-align: right;\">\n",
       "      <th></th>\n",
       "      <th>acteurs</th>\n",
       "      <th>budget</th>\n",
       "      <th>compositeur</th>\n",
       "      <th>date</th>\n",
       "      <th>entrees_premiere_semaine</th>\n",
       "      <th>franchise</th>\n",
       "      <th>genre</th>\n",
       "      <th>pays</th>\n",
       "      <th>producteur</th>\n",
       "      <th>realisateur</th>\n",
       "      <th>remake</th>\n",
       "      <th>studio</th>\n",
       "      <th>titre</th>\n",
       "      <th>season</th>\n",
       "      <th>coeff_studio</th>\n",
       "    </tr>\n",
       "  </thead>\n",
       "  <tbody>\n",
       "    <tr>\n",
       "      <th>0</th>\n",
       "      <td>Sam Worthington, Sigourney Weaver</td>\n",
       "      <td>315000000</td>\n",
       "      <td>James Horner</td>\n",
       "      <td>2009-12-16</td>\n",
       "      <td>2 648 596</td>\n",
       "      <td>Franchise</td>\n",
       "      <td>Science Fiction</td>\n",
       "      <td>Etats-Unis</td>\n",
       "      <td>NaN</td>\n",
       "      <td>James Cameron</td>\n",
       "      <td>NaN</td>\n",
       "      <td>20th Century Fox</td>\n",
       "      <td>Avatar</td>\n",
       "      <td>Hiver</td>\n",
       "      <td>3</td>\n",
       "    </tr>\n",
       "    <tr>\n",
       "      <th>1</th>\n",
       "      <td>Daniel Radcliffe, Emma Watson, Gary Oldman, Al...</td>\n",
       "      <td>130000000</td>\n",
       "      <td>John Williams</td>\n",
       "      <td>2004-06-02</td>\n",
       "      <td>2 503 699</td>\n",
       "      <td>Franchise</td>\n",
       "      <td>Fantasy</td>\n",
       "      <td>Etats-Unis</td>\n",
       "      <td>NaN</td>\n",
       "      <td>Alfonso Cuaron</td>\n",
       "      <td>NaN</td>\n",
       "      <td>Warner Bros.</td>\n",
       "      <td>Harry Potter et le prisonnier d'Azkaban</td>\n",
       "      <td>Été</td>\n",
       "      <td>3</td>\n",
       "    </tr>\n",
       "    <tr>\n",
       "      <th>2</th>\n",
       "      <td>Adam Driver, Benicio Del Toro, Joseph Gordon-L...</td>\n",
       "      <td>200000000</td>\n",
       "      <td>John Williams</td>\n",
       "      <td>2017-12-13</td>\n",
       "      <td>2 510 462</td>\n",
       "      <td>Franchise</td>\n",
       "      <td>Fantasy</td>\n",
       "      <td>Etats-Unis</td>\n",
       "      <td>Kathleen Kennedy</td>\n",
       "      <td>Rian Johnson</td>\n",
       "      <td>NaN</td>\n",
       "      <td>Walt Disney Pictures</td>\n",
       "      <td>Star Wars: Les derniers Jedi</td>\n",
       "      <td>Hiver</td>\n",
       "      <td>3</td>\n",
       "    </tr>\n",
       "  </tbody>\n",
       "</table>\n",
       "</div>"
      ],
      "text/plain": [
       "                                             acteurs     budget  \\\n",
       "0                  Sam Worthington, Sigourney Weaver  315000000   \n",
       "1  Daniel Radcliffe, Emma Watson, Gary Oldman, Al...  130000000   \n",
       "2  Adam Driver, Benicio Del Toro, Joseph Gordon-L...  200000000   \n",
       "\n",
       "     compositeur       date entrees_premiere_semaine  franchise  \\\n",
       "0   James Horner 2009-12-16                2 648 596  Franchise   \n",
       "1  John Williams 2004-06-02                2 503 699  Franchise   \n",
       "2  John Williams 2017-12-13                2 510 462  Franchise   \n",
       "\n",
       "             genre        pays        producteur     realisateur remake  \\\n",
       "0  Science Fiction  Etats-Unis               NaN   James Cameron    NaN   \n",
       "1          Fantasy  Etats-Unis               NaN  Alfonso Cuaron    NaN   \n",
       "2          Fantasy  Etats-Unis  Kathleen Kennedy    Rian Johnson    NaN   \n",
       "\n",
       "                 studio                                    titre season  \\\n",
       "0      20th Century Fox                                   Avatar  Hiver   \n",
       "1          Warner Bros.  Harry Potter et le prisonnier d'Azkaban    Été   \n",
       "2  Walt Disney Pictures             Star Wars: Les derniers Jedi  Hiver   \n",
       "\n",
       "   coeff_studio  \n",
       "0             3  \n",
       "1             3  \n",
       "2             3  "
      ]
     },
     "execution_count": 7,
     "metadata": {},
     "output_type": "execute_result"
    }
   ],
   "source": [
    "df_clean = pd.read_csv('/home/kevin/Documents/projets/Dev IA/cinema_prediction/movies_clean_v1.csv')\n",
    "# Je retransforme la colonne date en datetime au cas ou\n",
    "df_clean['date'] = pd.to_datetime(df_clean['date'])\n",
    "\n",
    "# Je catégorise en saisons\n",
    "def map_season(month):\n",
    "    if month in [3, 4, 5]:  # Printemps (mars, avril, mai)\n",
    "        return 'Printemps'\n",
    "    elif month in [6, 7, 8]:  # Été (juin, juillet, août)\n",
    "        return 'Été'\n",
    "    elif month in [9, 10, 11]:  # Automne (septembre, octobre, novembre)\n",
    "        return 'Automne'\n",
    "    else:  # Hiver (décembre, janvier, février)\n",
    "        return 'Hiver'\n",
    "\n",
    "# J'applique le mapping\n",
    "df_clean['season'] = df_clean['date'].dt.month.apply(map_season)\n",
    "\n",
    "df_clean.head(3)\n",
    "\n",
    "# Je retransforme la colonne date en datetime au cas ou\n",
    "df_clean['date'] = pd.to_datetime(df_clean['date'])\n",
    "\n",
    "# Je catégorise en saisons\n",
    "def map_season(month):\n",
    "    if month in [3, 4, 5]:  # Printemps (mars, avril, mai)\n",
    "        return 'Printemps'\n",
    "    elif month in [6, 7, 8]:  # Été (juin, juillet, août)\n",
    "        return 'Été'\n",
    "    elif month in [9, 10, 11]:  # Automne (septembre, octobre, novembre)\n",
    "        return 'Automne'\n",
    "    else:  # Hiver (décembre, janvier, février)\n",
    "        return 'Hiver'\n",
    "\n",
    "# J'applique le mapping\n",
    "df_clean['season'] = df_clean['date'].dt.month.apply(map_season)\n",
    "\n",
    "def categorisation_studio (stud):\n",
    "    big = ['Walt Disney Pictures','Warner Bros.','Paramount','Sony Pictures','Universal','20th Century Fox','Lionsgate','Columbia']\n",
    "    medium = ['Pathé','Studiocanal','Gaumont','UGC Distribution','SND','Le Pacte',' Metropolitan','EuropaCorp','GBVI',' Wild Bunch','UFD','ARP Selection','Ad vitam','Haut et Court',' Films du Losange','Rezo Films','TFM Distribution']\n",
    "    small = ['Gébéka','Memento Films','KMBO','Océan Films','AMLF','MK2 Diffusion','Gaumont Sony','Apollo Films','Sophie Dulac','Eurozoom','Jour2Fête','Pan-Européenne','Cinema Public','Polygram']\n",
    "\n",
    "    if stud in big:\n",
    "        return 3\n",
    "    elif stud in medium:\n",
    "        return 2\n",
    "    elif stud in small:\n",
    "        return 1\n",
    "    else:\n",
    "        return 0\n",
    "    \n",
    "df_clean['coeff_studio'] = df_clean['studio'].apply(categorisation_studio)\n",
    "df_clean.head(3)\n"
   ]
  },
  {
   "cell_type": "code",
   "execution_count": 8,
   "metadata": {},
   "outputs": [
    {
     "data": {
      "text/plain": [
       "array([3, 0, 2, 1])"
      ]
     },
     "execution_count": 8,
     "metadata": {},
     "output_type": "execute_result"
    }
   ],
   "source": [
    "df_clean['coeff_studio'].unique()\n"
   ]
  },
  {
   "cell_type": "code",
   "execution_count": 11,
   "metadata": {},
   "outputs": [],
   "source": [
    "df_clean['entrees_premiere_semaine'] = pd.to_numeric(df_clean['entrees_premiere_semaine'], errors='coerce').fillna(0).astype(int)\n"
   ]
  },
  {
   "cell_type": "code",
   "execution_count": 12,
   "metadata": {},
   "outputs": [
    {
     "data": {
      "text/plain": [
       "acteurs                             object\n",
       "budget                               int64\n",
       "compositeur                         object\n",
       "date                        datetime64[ns]\n",
       "entrees_premiere_semaine             int64\n",
       "franchise                           object\n",
       "genre                               object\n",
       "pays                                object\n",
       "producteur                          object\n",
       "realisateur                         object\n",
       "remake                              object\n",
       "studio                              object\n",
       "titre                               object\n",
       "season                              object\n",
       "coeff_studio                         int64\n",
       "dtype: object"
      ]
     },
     "execution_count": 12,
     "metadata": {},
     "output_type": "execute_result"
    }
   ],
   "source": [
    "df_clean.dtypes"
   ]
  }
 ],
 "metadata": {
  "kernelspec": {
   "display_name": "venv",
   "language": "python",
   "name": "python3"
  },
  "language_info": {
   "codemirror_mode": {
    "name": "ipython",
    "version": 3
   },
   "file_extension": ".py",
   "mimetype": "text/x-python",
   "name": "python",
   "nbconvert_exporter": "python",
   "pygments_lexer": "ipython3",
   "version": "3.10.12"
  }
 },
 "nbformat": 4,
 "nbformat_minor": 2
}
