{
 "cells": [
  {
   "cell_type": "code",
   "execution_count": 12,
   "metadata": {},
   "outputs": [
    {
     "data": {
      "text/plain": [
       "141285.53370737075"
      ]
     },
     "execution_count": 12,
     "metadata": {},
     "output_type": "execute_result"
    }
   ],
   "source": [
    "from sklearn.model_selection import train_test_split\n",
    "from sklearn.preprocessing import OneHotEncoder\n",
    "from sklearn.compose import ColumnTransformer\n",
    "from sklearn.pipeline import Pipeline\n",
    "from sklearn.impute import SimpleImputer\n",
    "from sklearn.ensemble import RandomForestRegressor\n",
    "from sklearn.metrics import mean_absolute_error\n",
    "import pandas as pd\n",
    "df = pd.read_csv('movies_clean_v3.csv')\n",
    "# def assign_genre_weight(row):\n",
    "#     # Vérifier si row est une chaîne de caractères\n",
    "#     if isinstance(row, str):\n",
    "#         genres = row.split(',')  # Crée une liste de genres à partir de la chaîne\n",
    "#         if 'Comédie' in genres:  # Vérifie si \"Comédie\" est dans la liste des genres\n",
    "#             return 3\n",
    "#         elif 'Action' in genres or 'Thriller' in genres:  # Vérifie la présence de \"Action\" ou \"Thriller\"\n",
    "#             return 2\n",
    "#         else:\n",
    "#             return 1\n",
    "#     else:\n",
    "#         # Retourner un poids par défaut pour les valeurs NaN ou non-chaînes\n",
    "#         return 0  # ou une autre valeur appropriée selon votre logique d'analyse\n",
    "\n",
    "# df['genre_weight'] = df['genre'].apply(assign_genre_weight)\n",
    "# Suppression des colonnes non nécessaires et prétraitement\n",
    "df = df.drop(['scoring_acteurs', 'acteurs'], axis=1)\n",
    "\n",
    "# Gestion des valeurs manquantes pour les colonnes numériques et catégorielles\n",
    "numeric_features = df.select_dtypes(include=['int64', 'float64']).columns.drop('entrees_premiere_semaine')\n",
    "numeric_transformer = SimpleImputer(strategy='median')\n",
    "\n",
    "categorical_features = df.select_dtypes(include=['object']).columns\n",
    "categorical_transformer = Pipeline(steps=[\n",
    "    ('imputer', SimpleImputer(strategy='constant', fill_value='missing')),\n",
    "    ('onehot', OneHotEncoder(handle_unknown='ignore'))\n",
    "])\n",
    "\n",
    "# Préparation du préprocesseur\n",
    "preprocessor = ColumnTransformer(\n",
    "    transformers=[\n",
    "        ('num', numeric_transformer, numeric_features),\n",
    "        ('cat', categorical_transformer, categorical_features)\n",
    "    ])\n",
    "\n",
    "# Modèle de régression\n",
    "model = Pipeline(steps=[('preprocessor', preprocessor),\n",
    "                        ('regressor', RandomForestRegressor(n_estimators=100, random_state=0))])\n",
    "\n",
    "# Séparation des données\n",
    "X = df.drop('entrees_premiere_semaine', axis=1)\n",
    "y = df['entrees_premiere_semaine']\n",
    "X_train, X_test, y_train, y_test = train_test_split(X, y, test_size=0.2, random_state=0)\n",
    "\n",
    "# Entraînement du modèle\n",
    "model.fit(X_train, y_train)\n",
    "\n",
    "# Prédiction sur l'ensemble de test\n",
    "y_pred = model.predict(X_test)\n",
    "\n",
    "# Évaluation du modèle\n",
    "mae = mean_absolute_error(y_test, y_pred)\n",
    "\n",
    "mae\n"
   ]
  },
  {
   "cell_type": "code",
   "execution_count": 13,
   "metadata": {},
   "outputs": [
    {
     "name": "stdout",
     "output_type": "stream",
     "text": [
      "             titre budget    genre    pays producteur realisateur compositeur  \\\n",
      "0  NOUS, LES LEROY   None  Comédie  France    missing     missing     missing   \n",
      "\n",
      "         studio  coeff_studio        date season  scoring_acteurs&realisateur  \\\n",
      "0  Apollo Films             1  2024-04-10  Hiver                          0.5   \n",
      "\n",
      "  remake franchise  pred_entrees  pred_entrees_dans_cine_jour  \n",
      "0   None      None     805776.75                    57.555482  \n"
     ]
    }
   ],
   "source": [
    "\n",
    "#Sortie 10/04/2024\n",
    "new_films = pd.DataFrame({\n",
    "    'titre': ['NOUS, LES LEROY'],  # Assurez-vous que les valeurs soient dans des listes\n",
    "    'budget': [None],\n",
    "    'genre': ['Comédie'],\n",
    "    'pays': ['France'],\n",
    "    #'acteurs': [['George Clooney', 'CA', 'NJ']],  # Cela dépend de comment vous avez traité cette caractéristique\n",
    "    'producteur': ['missing'],\n",
    "    'realisateur': ['missing'],\n",
    "    'compositeur': ['missing'],\n",
    "    'studio': ['Apollo Films'],\n",
    "    'coeff_studio': [1],\n",
    "    'date': ['2024-04-10'],\n",
    "    'season': ['Hiver'],\n",
    "    'scoring_acteurs&realisateur': [0.5],\n",
    "    'remake': [None],\n",
    "    'franchise': [None],\n",
    "})\n",
    "# faire des prédictions avec le modèle optimisé\n",
    "new_y_pred = model.predict(new_films)\n",
    "\n",
    "# ajouter les prédictions à new_data\n",
    "new_films['pred_entrees'] = new_y_pred\n",
    "new_films['pred_entrees_dans_cine_jour'] = (new_y_pred/2000)/7\n",
    "print(new_films)"
   ]
  }
 ],
 "metadata": {
  "kernelspec": {
   "display_name": "venv",
   "language": "python",
   "name": "python3"
  },
  "language_info": {
   "codemirror_mode": {
    "name": "ipython",
    "version": 3
   },
   "file_extension": ".py",
   "mimetype": "text/x-python",
   "name": "python",
   "nbconvert_exporter": "python",
   "pygments_lexer": "ipython3",
   "version": "3.10.12"
  }
 },
 "nbformat": 4,
 "nbformat_minor": 2
}
