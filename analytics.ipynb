{
 "cells": [
  {
   "cell_type": "code",
   "execution_count": 13,
   "metadata": {},
   "outputs": [
    {
     "ename": "ModuleNotFoundError",
     "evalue": "No module named 'matplotlib'",
     "output_type": "error",
     "traceback": [
      "\u001b[0;31m---------------------------------------------------------------------------\u001b[0m",
      "\u001b[0;31mModuleNotFoundError\u001b[0m                       Traceback (most recent call last)",
      "Cell \u001b[0;32mIn[13], line 2\u001b[0m\n\u001b[1;32m      1\u001b[0m \u001b[38;5;28;01mimport\u001b[39;00m \u001b[38;5;21;01mpandas\u001b[39;00m \u001b[38;5;28;01mas\u001b[39;00m \u001b[38;5;21;01mpd\u001b[39;00m\n\u001b[0;32m----> 2\u001b[0m \u001b[38;5;28;01mimport\u001b[39;00m \u001b[38;5;21;01mmatplotlib\u001b[39;00m\u001b[38;5;21;01m.\u001b[39;00m\u001b[38;5;21;01mpyplot\u001b[39;00m \u001b[38;5;28;01mas\u001b[39;00m \u001b[38;5;21;01mplt\u001b[39;00m\n\u001b[1;32m      3\u001b[0m \u001b[38;5;28;01mimport\u001b[39;00m \u001b[38;5;21;01mseaborn\u001b[39;00m \u001b[38;5;28;01mas\u001b[39;00m \u001b[38;5;21;01msns\u001b[39;00m\n",
      "\u001b[0;31mModuleNotFoundError\u001b[0m: No module named 'matplotlib'"
     ]
    }
   ],
   "source": [
    "import pandas as pd\n",
    "import matplotlib.pyplot as plt\n",
    "import seaborn as sns"
   ]
  },
  {
   "cell_type": "code",
   "execution_count": 10,
   "metadata": {},
   "outputs": [
    {
     "data": {
      "text/html": [
       "<div>\n",
       "<style scoped>\n",
       "    .dataframe tbody tr th:only-of-type {\n",
       "        vertical-align: middle;\n",
       "    }\n",
       "\n",
       "    .dataframe tbody tr th {\n",
       "        vertical-align: top;\n",
       "    }\n",
       "\n",
       "    .dataframe thead th {\n",
       "        text-align: right;\n",
       "    }\n",
       "</style>\n",
       "<table border=\"1\" class=\"dataframe\">\n",
       "  <thead>\n",
       "    <tr style=\"text-align: right;\">\n",
       "      <th></th>\n",
       "      <th>acteurs</th>\n",
       "      <th>anecdotes</th>\n",
       "      <th>duree</th>\n",
       "      <th>entrees</th>\n",
       "      <th>genre</th>\n",
       "      <th>pays</th>\n",
       "      <th>realisateur</th>\n",
       "      <th>studio</th>\n",
       "      <th>titre</th>\n",
       "    </tr>\n",
       "  </thead>\n",
       "  <tbody>\n",
       "    <tr>\n",
       "      <th>0</th>\n",
       "      <td>Maxime Gasteuil,Zabou Breitman,Romain Lancry</td>\n",
       "      <td>5</td>\n",
       "      <td>96</td>\n",
       "      <td>126678</td>\n",
       "      <td>Comédie</td>\n",
       "      <td>France</td>\n",
       "      <td>Edouard Pluvieux</td>\n",
       "      <td>Wild Bunch Distribution</td>\n",
       "      <td>14 jours pour aller mieux</td>\n",
       "    </tr>\n",
       "    <tr>\n",
       "      <th>1</th>\n",
       "      <td>Audrey Lamy,Fabrice Eboué,Anouk Grinberg</td>\n",
       "      <td>7</td>\n",
       "      <td>103</td>\n",
       "      <td>136628</td>\n",
       "      <td>Comédie</td>\n",
       "      <td>France</td>\n",
       "      <td>Maxime Govare,Romain Choay</td>\n",
       "      <td>Warner Bros. France</td>\n",
       "      <td>Heureux gagnants</td>\n",
       "    </tr>\n",
       "    <tr>\n",
       "      <th>2</th>\n",
       "      <td>Raphaël Personnaz,Doria Tillier,Jeanne Balibar</td>\n",
       "      <td>10</td>\n",
       "      <td>120</td>\n",
       "      <td>177724</td>\n",
       "      <td>Biopic</td>\n",
       "      <td>France</td>\n",
       "      <td>Anne Fontaine</td>\n",
       "      <td>SND</td>\n",
       "      <td>Bolero</td>\n",
       "    </tr>\n",
       "  </tbody>\n",
       "</table>\n",
       "</div>"
      ],
      "text/plain": [
       "                                          acteurs  anecdotes  duree  entrees  \\\n",
       "0    Maxime Gasteuil,Zabou Breitman,Romain Lancry          5     96   126678   \n",
       "1        Audrey Lamy,Fabrice Eboué,Anouk Grinberg          7    103   136628   \n",
       "2  Raphaël Personnaz,Doria Tillier,Jeanne Balibar         10    120   177724   \n",
       "\n",
       "     genre    pays                 realisateur                   studio  \\\n",
       "0  Comédie  France            Edouard Pluvieux  Wild Bunch Distribution   \n",
       "1  Comédie  France  Maxime Govare,Romain Choay      Warner Bros. France   \n",
       "2   Biopic  France               Anne Fontaine                      SND   \n",
       "\n",
       "                       titre  \n",
       "0  14 jours pour aller mieux  \n",
       "1           Heureux gagnants  \n",
       "2                     Bolero  "
      ]
     },
     "execution_count": 10,
     "metadata": {},
     "output_type": "execute_result"
    }
   ],
   "source": [
    "df = pd.read_csv('data.csv')\n",
    "df.head(3)"
   ]
  },
  {
   "cell_type": "code",
   "execution_count": 11,
   "metadata": {},
   "outputs": [
    {
     "data": {
      "text/html": [
       "<div>\n",
       "<style scoped>\n",
       "    .dataframe tbody tr th:only-of-type {\n",
       "        vertical-align: middle;\n",
       "    }\n",
       "\n",
       "    .dataframe tbody tr th {\n",
       "        vertical-align: top;\n",
       "    }\n",
       "\n",
       "    .dataframe thead th {\n",
       "        text-align: right;\n",
       "    }\n",
       "</style>\n",
       "<table border=\"1\" class=\"dataframe\">\n",
       "  <thead>\n",
       "    <tr style=\"text-align: right;\">\n",
       "      <th></th>\n",
       "      <th>anecdotes</th>\n",
       "      <th>duree</th>\n",
       "      <th>entrees</th>\n",
       "    </tr>\n",
       "  </thead>\n",
       "  <tbody>\n",
       "    <tr>\n",
       "      <th>count</th>\n",
       "      <td>1540.000000</td>\n",
       "      <td>1540.000000</td>\n",
       "      <td>1.540000e+03</td>\n",
       "    </tr>\n",
       "    <tr>\n",
       "      <th>mean</th>\n",
       "      <td>6.667532</td>\n",
       "      <td>103.405844</td>\n",
       "      <td>1.008200e+05</td>\n",
       "    </tr>\n",
       "    <tr>\n",
       "      <th>std</th>\n",
       "      <td>4.132140</td>\n",
       "      <td>22.792270</td>\n",
       "      <td>2.263700e+05</td>\n",
       "    </tr>\n",
       "    <tr>\n",
       "      <th>min</th>\n",
       "      <td>0.000000</td>\n",
       "      <td>31.000000</td>\n",
       "      <td>6.000000e+00</td>\n",
       "    </tr>\n",
       "    <tr>\n",
       "      <th>25%</th>\n",
       "      <td>5.000000</td>\n",
       "      <td>91.000000</td>\n",
       "      <td>4.822500e+03</td>\n",
       "    </tr>\n",
       "    <tr>\n",
       "      <th>50%</th>\n",
       "      <td>6.000000</td>\n",
       "      <td>100.000000</td>\n",
       "      <td>2.413250e+04</td>\n",
       "    </tr>\n",
       "    <tr>\n",
       "      <th>75%</th>\n",
       "      <td>8.000000</td>\n",
       "      <td>114.000000</td>\n",
       "      <td>9.890350e+04</td>\n",
       "    </tr>\n",
       "    <tr>\n",
       "      <th>max</th>\n",
       "      <td>35.000000</td>\n",
       "      <td>213.000000</td>\n",
       "      <td>2.867515e+06</td>\n",
       "    </tr>\n",
       "  </tbody>\n",
       "</table>\n",
       "</div>"
      ],
      "text/plain": [
       "         anecdotes        duree       entrees\n",
       "count  1540.000000  1540.000000  1.540000e+03\n",
       "mean      6.667532   103.405844  1.008200e+05\n",
       "std       4.132140    22.792270  2.263700e+05\n",
       "min       0.000000    31.000000  6.000000e+00\n",
       "25%       5.000000    91.000000  4.822500e+03\n",
       "50%       6.000000   100.000000  2.413250e+04\n",
       "75%       8.000000   114.000000  9.890350e+04\n",
       "max      35.000000   213.000000  2.867515e+06"
      ]
     },
     "execution_count": 11,
     "metadata": {},
     "output_type": "execute_result"
    }
   ],
   "source": [
    "df.describe()"
   ]
  },
  {
   "cell_type": "code",
   "execution_count": 12,
   "metadata": {},
   "outputs": [
    {
     "ename": "NameError",
     "evalue": "name 'plt' is not defined",
     "output_type": "error",
     "traceback": [
      "\u001b[0;31m---------------------------------------------------------------------------\u001b[0m",
      "\u001b[0;31mNameError\u001b[0m                                 Traceback (most recent call last)",
      "Cell \u001b[0;32mIn[12], line 2\u001b[0m\n\u001b[1;32m      1\u001b[0m \u001b[38;5;66;03m#analytics univariées\u001b[39;00m\n\u001b[0;32m----> 2\u001b[0m \u001b[43mplt\u001b[49m\u001b[38;5;241m.\u001b[39mscatter(df\u001b[38;5;241m.\u001b[39mindex,df[\u001b[38;5;124m'\u001b[39m\u001b[38;5;124mentrees\u001b[39m\u001b[38;5;124m'\u001b[39m])\n\u001b[1;32m      3\u001b[0m plt\u001b[38;5;241m.\u001b[39mshow()\n",
      "\u001b[0;31mNameError\u001b[0m: name 'plt' is not defined"
     ]
    }
   ],
   "source": [
    "#analytics univariées\n",
    "plt.scatter(df.index,df['entrees'])\n",
    "plt.show()"
   ]
  }
 ],
 "metadata": {
  "kernelspec": {
   "display_name": "venv",
   "language": "python",
   "name": "python3"
  },
  "language_info": {
   "codemirror_mode": {
    "name": "ipython",
    "version": 3
   },
   "file_extension": ".py",
   "mimetype": "text/x-python",
   "name": "python",
   "nbconvert_exporter": "python",
   "pygments_lexer": "ipython3",
   "version": "3.10.12"
  }
 },
 "nbformat": 4,
 "nbformat_minor": 2
}
